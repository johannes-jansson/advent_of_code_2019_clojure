{
 "cells": [
  {
   "cell_type": "code",
   "execution_count": null,
   "metadata": {},
   "outputs": [],
   "source": [
    "import array"
   ]
  },
  {
   "cell_type": "code",
   "execution_count": null,
   "metadata": {},
   "outputs": [],
   "source": [
    "def load():\n",
    "    with open(\"input\", \"r\") as f:\n",
    "        program = array.array('i', [int(x) for x in f.read().split(\",\")])\n",
    "    return program"
   ]
  },
  {
   "cell_type": "code",
   "execution_count": null,
   "metadata": {},
   "outputs": [],
   "source": [
    "def op_parser(op):\n",
    "    a, b, c, d, e = [int(x) for x in str(op).zfill(5)]\n",
    "    return [a, b, c, 10 * d + e]\n",
    "print(op_parser(2345) == [0, 2, 3, 45])"
   ]
  },
  {
   "cell_type": "code",
   "execution_count": null,
   "metadata": {},
   "outputs": [],
   "source": [
    "def calculate(program, input):\n",
    "    i = 0\n",
    "    output = 0\n",
    "    \n",
    "    while (i < len(program)):\n",
    "        # return whenever output becomes non zero\n",
    "        if (not output == 0):\n",
    "            return output\n",
    "        \n",
    "        # parse the op code\n",
    "        m3, m2, m1, a = op_parser(program[i])\n",
    "        i += 1\n",
    "        \n",
    "        # op code 99 returns the output\n",
    "        if a == 99:\n",
    "            return output\n",
    "        \n",
    "        b = program[i]\n",
    "        i += 1\n",
    "        \n",
    "        # op code 3 stores input to program\n",
    "        if a == 3:\n",
    "            program[b] = input\n",
    "            continue\n",
    "        \n",
    "        b = program[b] if m1 == 0 else b\n",
    "        \n",
    "        # op code 4 stores data to output\n",
    "        if a == 4:\n",
    "            output = b\n",
    "            continue\n",
    "            \n",
    "        c = program[i]\n",
    "        c = program[c] if m2 == 0 else c\n",
    "        i += 1\n",
    "        \n",
    "        # op code 5 is jump-if-true\n",
    "        if a == 5:\n",
    "            if (b != 0):\n",
    "                i = c\n",
    "            continue\n",
    "            \n",
    "        # op code 6 is jump-if-false\n",
    "        if a == 6:\n",
    "            if (b == 0):\n",
    "                i = c\n",
    "            continue\n",
    "        \n",
    "        d = program[i]\n",
    "        i += 1 \n",
    "        \n",
    "        # op code 1 is addition\n",
    "        if a == 1:\n",
    "            program[d] = b + c\n",
    "            continue\n",
    "            \n",
    "        # op code 2 is multiplication\n",
    "        if a == 2:\n",
    "            program[d] = b * c\n",
    "            continue\n",
    "            \n",
    "        # op code 7 is less than\n",
    "        if a == 7:\n",
    "            program[d] = 1 if (b < c) else 0\n",
    "            continue\n",
    "            \n",
    "        # op code 8 is equals\n",
    "        if a == 8:\n",
    "            program[d] = 1 if (b == c) else 0\n",
    "            continue\n",
    "        \n",
    "\n",
    "print(calculate(array.array('i', [3,0,4,0,99]), -42) == -42)\n",
    "print(calculate(array.array('i', [1002,4,3,4,33]), 0) == 0)\n",
    "print(calculate(array.array('i', [3,9,8,9,10,9,4,9,99,-1,8]), 8) == 1)\n",
    "print(calculate(array.array('i', [3,9,7,9,10,9,4,9,99,-1,8]), 8) == 0)\n",
    "print(calculate(array.array('i', [3,3,1108,-1,8,3,4,3,99]), 8) == 1)\n",
    "print(calculate(array.array('i', [3,3,1107,-1,8,3,4,3,99]), 8) == 0)\n",
    "print(calculate(array.array('i', [3,12,6,12,15,1,13,14,13,4,13,99,-1,0,1,9]), 1) == 1)"
   ]
  },
  {
   "cell_type": "code",
   "execution_count": null,
   "metadata": {},
   "outputs": [],
   "source": [
    "# A\n",
    "print(calculate(load(), 1) == 9006673)"
   ]
  },
  {
   "cell_type": "code",
   "execution_count": null,
   "metadata": {},
   "outputs": [],
   "source": [
    "# B\n",
    "print(calculate(load(), 5) == 3629692)"
   ]
  }
 ],
 "metadata": {
  "kernelspec": {
   "display_name": "Python 3",
   "language": "python",
   "name": "python3"
  },
  "language_info": {
   "codemirror_mode": {
    "name": "ipython",
    "version": 3
   },
   "file_extension": ".py",
   "mimetype": "text/x-python",
   "name": "python",
   "nbconvert_exporter": "python",
   "pygments_lexer": "ipython3",
   "version": "3.5.5"
  }
 },
 "nbformat": 4,
 "nbformat_minor": 2
}
