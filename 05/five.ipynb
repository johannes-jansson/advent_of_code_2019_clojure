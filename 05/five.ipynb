{
 "cells": [
  {
   "cell_type": "code",
   "execution_count": null,
   "metadata": {},
   "outputs": [],
   "source": [
    "import array"
   ]
  },
  {
   "cell_type": "code",
   "execution_count": null,
   "metadata": {},
   "outputs": [],
   "source": [
    "def load():\n",
    "    with open(\"input\", \"r\") as f:\n",
    "        program = array.array('i', [int(x) for x in f.read().split(\",\")])\n",
    "    return program"
   ]
  },
  {
   "cell_type": "code",
   "execution_count": null,
   "metadata": {},
   "outputs": [],
   "source": [
    "def op_parser(op):\n",
    "    a, b, c, d, e = [int(x) for x in str(op).zfill(5)]\n",
    "    return [a, b, c, 10 * d + e]\n",
    "print(op_parser(2345) == [0, 2, 3, 45])"
   ]
  },
  {
   "cell_type": "code",
   "execution_count": null,
   "metadata": {},
   "outputs": [],
   "source": [
    "def calculate(program, input):\n",
    "    index = 0\n",
    "    output = 0\n",
    "    \n",
    "    while True:\n",
    "        if (not output == 0):\n",
    "            return output\n",
    "        \n",
    "        m3, m2, m1, a = op_parser(program[index])\n",
    "        index += 1\n",
    "        \n",
    "        if a == 99:\n",
    "            return program[0]\n",
    "        \n",
    "        b = program[index]\n",
    "        index += 1\n",
    "\n",
    "        if a == 3:\n",
    "            program[b] = input\n",
    "            continue\n",
    "        if a == 4:\n",
    "            output = program[b] if m1 == 0 else b\n",
    "            continue\n",
    "            \n",
    "        c = program[index]\n",
    "        index += 1\n",
    "        d = program[index]\n",
    "        index += 1 \n",
    "        \n",
    "        if a == 1:\n",
    "            b = program[b] if m1 == 0 else b\n",
    "            c = program[c] if m2 == 0 else c\n",
    "            program[d] = b + c\n",
    "            \n",
    "        if a == 2:\n",
    "            b = program[b] if m1 == 0 else b\n",
    "            c = program[c] if m2 == 0 else c\n",
    "            program[d] = b * c\n",
    "        \n",
    "\n",
    "print(calculate(array.array('i', [3,0,4,0,99]), -42) == -42)\n",
    "print(calculate(array.array('i', [1002,4,3,4,33]), 0) == 1002)\n"
   ]
  },
  {
   "cell_type": "code",
   "execution_count": null,
   "metadata": {},
   "outputs": [],
   "source": [
    "# A\n",
    "print(calculate(load(), 1))"
   ]
  }
 ],
 "metadata": {
  "kernelspec": {
   "display_name": "Python 3",
   "language": "python",
   "name": "python3"
  },
  "language_info": {
   "codemirror_mode": {
    "name": "ipython",
    "version": 3
   },
   "file_extension": ".py",
   "mimetype": "text/x-python",
   "name": "python",
   "nbconvert_exporter": "python",
   "pygments_lexer": "ipython3",
   "version": "3.5.5"
  }
 },
 "nbformat": 4,
 "nbformat_minor": 2
}
