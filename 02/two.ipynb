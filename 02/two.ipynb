{
 "cells": [
  {
   "cell_type": "code",
   "execution_count": 21,
   "metadata": {},
   "outputs": [],
   "source": [
    "import array"
   ]
  },
  {
   "cell_type": "code",
   "execution_count": 22,
   "metadata": {},
   "outputs": [],
   "source": [
    "def load(noun, verb):\n",
    "    with open(\"input\", \"r\") as f:\n",
    "        program = array.array('i', [int(x) for x in f.read().split(\",\")])\n",
    "    program[1] = noun\n",
    "    program[2] = verb\n",
    "    return program"
   ]
  },
  {
   "cell_type": "code",
   "execution_count": 23,
   "metadata": {},
   "outputs": [],
   "source": [
    "def calculate(program):\n",
    "    for a, b, c, d in zip(*[iter(program)]*4):\n",
    "        if a == 99:\n",
    "            return program[0]\n",
    "        if a == 1:\n",
    "            program[d] = program[b] + program[c]\n",
    "        if a == 2:\n",
    "            program[d] = program[b] * program[c]"
   ]
  },
  {
   "cell_type": "code",
   "execution_count": 24,
   "metadata": {},
   "outputs": [
    {
     "name": "stdout",
     "output_type": "stream",
     "text": [
      "2692315\n"
     ]
    }
   ],
   "source": [
    "# A\n",
    "print(calculate(load(12, 2)))"
   ]
  },
  {
   "cell_type": "code",
   "execution_count": null,
   "metadata": {},
   "outputs": [],
   "source": [
    "# B: determine what pair of inputs produces the output 19690720\n",
    "for noun in range(100):\n",
    "    for verb in range(100):\n",
    "        if calculate(load(noun, verb)) == 19690720:\n",
    "            print(\"Success! Answer is {}\".format(100*noun+verb))\n",
    "        "
   ]
  }
 ],
 "metadata": {
  "kernelspec": {
   "display_name": "Python 3",
   "language": "python",
   "name": "python3"
  },
  "language_info": {
   "codemirror_mode": {
    "name": "ipython",
    "version": 3
   },
   "file_extension": ".py",
   "mimetype": "text/x-python",
   "name": "python",
   "nbconvert_exporter": "python",
   "pygments_lexer": "ipython3",
   "version": "3.5.5"
  }
 },
 "nbformat": 4,
 "nbformat_minor": 2
}
