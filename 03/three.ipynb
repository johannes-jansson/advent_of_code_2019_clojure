{
 "cells": [
  {
   "cell_type": "code",
   "execution_count": null,
   "metadata": {},
   "outputs": [],
   "source": []
  },
  {
   "cell_type": "code",
   "execution_count": 39,
   "metadata": {},
   "outputs": [],
   "source": [
    "instructions = []\n",
    "with open(\"input\", \"r\") as f:\n",
    "    for line in f.read().split(\"\\n\")[0:-1]:\n",
    "        instructions.append(line.split(\",\"))"
   ]
  },
  {
   "cell_type": "code",
   "execution_count": 40,
   "metadata": {},
   "outputs": [
    {
     "name": "stdout",
     "output_type": "stream",
     "text": [
      "148328\n",
      "147059\n"
     ]
    }
   ],
   "source": [
    "visited_points = []\n",
    "for instr in instructions:\n",
    "    visited = set()\n",
    "    current_x = 0\n",
    "    current_y = 0\n",
    "    delay = 0\n",
    "    for step in instr:\n",
    "        direction = step[0]\n",
    "        length = step[1:]\n",
    "        length = int(length)\n",
    "        for i in range(length):\n",
    "            delay ++\n",
    "            if direction == \"R\":\n",
    "                current_x = current_x + 1\n",
    "            if direction == \"L\":\n",
    "                current_x = current_x - 1\n",
    "            if direction == \"U\":\n",
    "                current_y = current_y + 1\n",
    "            if direction == \"D\":\n",
    "                current_y = current_y - 1\n",
    "            visited.add((current_x, current_y))\n",
    "    print(len(visited))\n",
    "    visited_points.append(visited)"
   ]
  },
  {
   "cell_type": "code",
   "execution_count": 42,
   "metadata": {},
   "outputs": [],
   "source": [
    "def manhattan(t):\n",
    "    return abs(t[0]) + abs(t[1])"
   ]
  },
  {
   "cell_type": "code",
   "execution_count": 45,
   "metadata": {},
   "outputs": [
    {
     "name": "stdout",
     "output_type": "stream",
     "text": [
      "489\n"
     ]
    }
   ],
   "source": [
    "intersections = visited_points[0] & visited_points[1]\n",
    "lowest = 9999999\n",
    "for t in intersections:\n",
    "    m = manhattan(t)\n",
    "    if m < lowest:\n",
    "        lowest = m\n",
    "print(lowest)"
   ]
  },
  {
   "cell_type": "code",
   "execution_count": null,
   "metadata": {},
   "outputs": [],
   "source": []
  }
 ],
 "metadata": {
  "kernelspec": {
   "display_name": "Python 3",
   "language": "python",
   "name": "python3"
  },
  "language_info": {
   "codemirror_mode": {
    "name": "ipython",
    "version": 3
   },
   "file_extension": ".py",
   "mimetype": "text/x-python",
   "name": "python",
   "nbconvert_exporter": "python",
   "pygments_lexer": "ipython3",
   "version": "3.5.5"
  }
 },
 "nbformat": 4,
 "nbformat_minor": 2
}
