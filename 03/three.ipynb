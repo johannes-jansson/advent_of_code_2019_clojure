{
 "cells": [
  {
   "cell_type": "code",
   "execution_count": null,
   "metadata": {},
   "outputs": [],
   "source": [
    "instructions = []\n",
    "with open(\"input\", \"r\") as f:\n",
    "    for line in f.read().split(\"\\n\")[0:-1]:\n",
    "        instructions.append(line.split(\",\"))"
   ]
  },
  {
   "cell_type": "code",
   "execution_count": null,
   "metadata": {},
   "outputs": [],
   "source": [
    "visited_points = []\n",
    "for instr in instructions:\n",
    "    visited = dict()\n",
    "    x = 0\n",
    "    y = 0\n",
    "    delay = 0\n",
    "    for step in instr:\n",
    "        direction = step[0]\n",
    "        length = step[1:]\n",
    "        length = int(length)\n",
    "        for i in range(length):\n",
    "            delay = delay + 1\n",
    "            if direction == \"R\":\n",
    "                x += 1\n",
    "            elif direction == \"L\":\n",
    "                x -= 1\n",
    "            elif direction == \"U\":\n",
    "                y += 1\n",
    "            elif direction == \"D\":\n",
    "                y -= 1\n",
    "            if ((x,y) in visited):\n",
    "                if (visited[(x,y)] > delay):\n",
    "                    visited[(x, y)] = delay\n",
    "            else:\n",
    "                visited[(x, y)] = delay\n",
    "    print(len(visited))\n",
    "    visited_points.append(visited)"
   ]
  },
  {
   "cell_type": "code",
   "execution_count": null,
   "metadata": {},
   "outputs": [],
   "source": [
    "# A\n",
    "intersections = visited_points[0].keys() & visited_points[1].keys()\n",
    "lowest = 10e100\n",
    "for t in intersections:\n",
    "    m = sum([abs(x) for x in t])\n",
    "    lowest = min(m, lowest) \n",
    "print(lowest) # should be 489"
   ]
  },
  {
   "cell_type": "code",
   "execution_count": null,
   "metadata": {},
   "outputs": [],
   "source": [
    "# B\n",
    "intersections = visited_points[0].keys() & visited_points[1].keys()\n",
    "lowest = 10e100\n",
    "for t in intersections:\n",
    "    m = visited_points[0][t] + visited_points[1][t]\n",
    "    lowest = min(m, lowest)\n",
    "print(lowest) # should be 93654"
   ]
  },
  {
   "cell_type": "code",
   "execution_count": null,
   "metadata": {},
   "outputs": [],
   "source": []
  }
 ],
 "metadata": {
  "kernelspec": {
   "display_name": "Python 3",
   "language": "python",
   "name": "python3"
  },
  "language_info": {
   "codemirror_mode": {
    "name": "ipython",
    "version": 3
   },
   "file_extension": ".py",
   "mimetype": "text/x-python",
   "name": "python",
   "nbconvert_exporter": "python",
   "pygments_lexer": "ipython3",
   "version": "3.5.5"
  }
 },
 "nbformat": 4,
 "nbformat_minor": 2
}
