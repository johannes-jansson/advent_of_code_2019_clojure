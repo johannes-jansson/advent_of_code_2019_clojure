{
 "cells": [
  {
   "cell_type": "code",
   "execution_count": null,
   "metadata": {},
   "outputs": [],
   "source": [
    "from collections import Counter\n",
    "min = 254032\n",
    "max = 789860"
   ]
  },
  {
   "cell_type": "code",
   "execution_count": null,
   "metadata": {},
   "outputs": [],
   "source": [
    "def to_list(number):\n",
    "    return [x for x in str(number)]"
   ]
  },
  {
   "cell_type": "code",
   "execution_count": null,
   "metadata": {},
   "outputs": [],
   "source": [
    "def adjacent(number):\n",
    "    list = to_list(number)\n",
    "    for i in range(5):\n",
    "        if list[i] == list[i+1]:\n",
    "            return True\n",
    "    return False"
   ]
  },
  {
   "cell_type": "code",
   "execution_count": null,
   "metadata": {},
   "outputs": [],
   "source": [
    "def increasing(number):\n",
    "    list = to_list(number)\n",
    "    for i in range(5):\n",
    "        if list[i] > list[i+1]:\n",
    "            return False\n",
    "    return True"
   ]
  },
  {
   "cell_type": "code",
   "execution_count": null,
   "metadata": {},
   "outputs": [],
   "source": [
    "# A\n",
    "count = 0\n",
    "for number in range(min, max+1):\n",
    "    if (adjacent(number) and increasing(number)):\n",
    "        count += 1\n",
    "        \n",
    "print(count) # should be 1033"
   ]
  },
  {
   "cell_type": "code",
   "execution_count": null,
   "metadata": {},
   "outputs": [],
   "source": [
    "def adjacent_modified(number):\n",
    "    return True if 2 in Counter(to_list(number)).values() else False"
   ]
  },
  {
   "cell_type": "code",
   "execution_count": null,
   "metadata": {},
   "outputs": [],
   "source": [
    "# B\n",
    "count = 0\n",
    "for number in range(min, max+1):\n",
    "    if (adjacent_modified(number) and increasing(number)):\n",
    "        count += 1\n",
    "        \n",
    "print(count) # should be 670"
   ]
  }
 ],
 "metadata": {
  "kernelspec": {
   "display_name": "Python 3",
   "language": "python",
   "name": "python3"
  },
  "language_info": {
   "codemirror_mode": {
    "name": "ipython",
    "version": 3
   },
   "file_extension": ".py",
   "mimetype": "text/x-python",
   "name": "python",
   "nbconvert_exporter": "python",
   "pygments_lexer": "ipython3",
   "version": "3.5.5"
  }
 },
 "nbformat": 4,
 "nbformat_minor": 2
}
