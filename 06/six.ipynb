{
 "cells": [
  {
   "cell_type": "code",
   "execution_count": null,
   "metadata": {},
   "outputs": [],
   "source": [
    "# Load input\n",
    "with open(\"input\", \"r\") as f:\n",
    "    l = f.read().split(\"\\n\")[0:-1]\n",
    "    orbits = [(x.split(\")\")) for x in l]\n",
    "# print(orbits)"
   ]
  },
  {
   "cell_type": "code",
   "execution_count": null,
   "metadata": {},
   "outputs": [],
   "source": [
    "# Store input in a dict for simpler traversal\n",
    "m = {}\n",
    "for orbit in orbits:\n",
    "    if orbit[0] not in m:\n",
    "        m[orbit[0]] = []\n",
    "    m[orbit[0]].append(orbit[1])\n",
    "# print(m)"
   ]
  },
  {
   "cell_type": "code",
   "execution_count": null,
   "metadata": {},
   "outputs": [],
   "source": [
    "# Count the total number of orbits in the system\n",
    "sums = []\n",
    "def visit(current, depth):\n",
    "    # print(\"looking at {}, depth = {}\".format(current, depth))\n",
    "    if current != \"COM\":\n",
    "        depth += 1\n",
    "    sums.append(depth)\n",
    "    if current in m:\n",
    "        for o in m[current]:\n",
    "            visit(o, depth)\n",
    "            \n",
    "visit(\"COM\", 0)\n",
    "# print(sums)\n",
    "print(sum(sums) == 130681)"
   ]
  },
  {
   "cell_type": "code",
   "execution_count": null,
   "metadata": {},
   "outputs": [],
   "source": []
  }
 ],
 "metadata": {
  "kernelspec": {
   "display_name": "Python 3",
   "language": "python",
   "name": "python3"
  },
  "language_info": {
   "codemirror_mode": {
    "name": "ipython",
    "version": 3
   },
   "file_extension": ".py",
   "mimetype": "text/x-python",
   "name": "python",
   "nbconvert_exporter": "python",
   "pygments_lexer": "ipython3",
   "version": "3.5.5"
  }
 },
 "nbformat": 4,
 "nbformat_minor": 2
}
