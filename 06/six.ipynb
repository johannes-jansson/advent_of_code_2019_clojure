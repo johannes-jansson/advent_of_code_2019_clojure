{
 "cells": [
  {
   "cell_type": "code",
   "execution_count": null,
   "metadata": {},
   "outputs": [],
   "source": [
    "# Load input\n",
    "with open(\"input\", \"r\") as f:\n",
    "    l = f.read().split(\"\\n\")[0:-1]\n",
    "    orbits = [(x.split(\")\")) for x in l]"
   ]
  },
  {
   "cell_type": "code",
   "execution_count": null,
   "metadata": {},
   "outputs": [],
   "source": [
    "# Store input in a dict for simpler traversal in a\n",
    "m = {}\n",
    "for orbit in orbits:\n",
    "    if orbit[0] not in m:\n",
    "        m[orbit[0]] = []\n",
    "    m[orbit[0]].append(orbit[1])"
   ]
  },
  {
   "cell_type": "code",
   "execution_count": null,
   "metadata": {},
   "outputs": [],
   "source": [
    "# A) Count the total number of orbits in the system\n",
    "sums = []\n",
    "def visit(current, depth):\n",
    "    if current != \"COM\":\n",
    "        depth += 1\n",
    "    sums.append(depth)\n",
    "    if current in m:\n",
    "        for o in m[current]:\n",
    "            visit(o, depth)\n",
    "\n",
    "\n",
    "visit(\"COM\", 0)\n",
    "print(sum(sums) == 130681)"
   ]
  },
  {
   "cell_type": "code",
   "execution_count": null,
   "metadata": {},
   "outputs": [],
   "source": [
    "# In B we \"need\" a dict with all neighbors\n",
    "neighbors = {}\n",
    "for orbit in orbits:\n",
    "    if orbit[0] not in neighbors:\n",
    "        neighbors[orbit[0]] = []\n",
    "    if orbit[1] not in neighbors:\n",
    "        neighbors[orbit[1]] = []\n",
    "    neighbors[orbit[0]].append(orbit[1])\n",
    "    neighbors[orbit[1]].append(orbit[0])"
   ]
  },
  {
   "cell_type": "code",
   "execution_count": null,
   "metadata": {},
   "outputs": [],
   "source": [
    "# B) Count the number of orbit changes to get from YOU to SAN\n",
    "paths = []\n",
    "def pathfinder(current, target, distance):\n",
    "    if (current == target):\n",
    "        # we arrived!\n",
    "        paths.append(distance - 1)\n",
    "    else:\n",
    "        # we haven't arrived, let's keep moving by branching on each neighbor\n",
    "        distance += 1\n",
    "        while len(neighbors[current]) > 0:\n",
    "            # remove the next planet from this neighbor list\n",
    "            next = neighbors[current].pop()\n",
    "            # remove the current planet from the neighbor list of next planet, \n",
    "            # no point in going back\n",
    "            neighbors[next] = list(filter(lambda x: x != current, neighbors[next]))\n",
    "            pathfinder(next, target, distance)\n",
    "\n",
    "\n",
    "pathfinder(neighbors[\"YOU\"].pop(), \"SAN\", 0)\n",
    "print(min(paths) == 313)"
   ]
  }
 ],
 "metadata": {
  "kernelspec": {
   "display_name": "Python 3",
   "language": "python",
   "name": "python3"
  },
  "language_info": {
   "codemirror_mode": {
    "name": "ipython",
    "version": 3
   },
   "file_extension": ".py",
   "mimetype": "text/x-python",
   "name": "python",
   "nbconvert_exporter": "python",
   "pygments_lexer": "ipython3",
   "version": "3.5.5"
  }
 },
 "nbformat": 4,
 "nbformat_minor": 2
}
